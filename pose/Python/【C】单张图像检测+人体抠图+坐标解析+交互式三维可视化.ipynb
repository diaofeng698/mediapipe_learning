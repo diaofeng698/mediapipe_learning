{
 "cells": [
  {
   "cell_type": "markdown",
   "id": "worth-flight",
   "metadata": {},
   "source": [
    "# 导入工具包"
   ]
  },
  {
   "cell_type": "code",
   "execution_count": 1,
   "id": "saved-yahoo",
   "metadata": {},
   "outputs": [],
   "source": [
    "# opencv-python\n",
    "import cv2\n",
    "\n",
    "# mediapipe人工智能工具包\n",
    "import mediapipe as mp\n",
    "\n",
    "# 进度条库\n",
    "from tqdm import tqdm\n",
    "\n",
    "# 时间库\n",
    "import time\n",
    "\n",
    "# 导入python绘图matplotlib\n",
    "import matplotlib.pyplot as plt\n",
    "# 使用ipython的魔法方法，将绘制出的图像直接嵌入在notebook单元格中\n",
    "%matplotlib inline"
   ]
  },
  {
   "cell_type": "code",
   "execution_count": 2,
   "id": "hollow-newark",
   "metadata": {},
   "outputs": [],
   "source": [
    "# 定义可视化图像函数\n",
    "def look_img(img):\n",
    "    '''opencv读入图像格式为BGR，matplotlib可视化格式为RGB，因此需将BGR转RGB'''\n",
    "    img_RGB = cv2.cvtColor(img, cv2.COLOR_BGR2RGB)\n",
    "    plt.imshow(img_RGB)\n",
    "    plt.show()"
   ]
  },
  {
   "cell_type": "markdown",
   "id": "protecting-gender",
   "metadata": {},
   "source": [
    "# 导入模型"
   ]
  },
  {
   "cell_type": "code",
   "execution_count": 3,
   "id": "sweet-surfing",
   "metadata": {},
   "outputs": [],
   "source": [
    "# 导入solution\n",
    "mp_pose = mp.solutions.pose\n",
    "\n",
    "# # 导入绘图函数\n",
    "mp_drawing = mp.solutions.drawing_utils \n",
    "\n",
    "# 导入模型\n",
    "pose = mp_pose.Pose(static_image_mode=True,        # 是静态图片还是连续视频帧\n",
    "                    model_complexity=2,            # 选择人体姿态关键点检测模型，0性能差但快，2性能好但慢，1介于两者之间\n",
    "                    smooth_landmarks=True,         # 是否平滑关键点\n",
    "                    enable_segmentation=True,      # 是否人体抠图\n",
    "                    min_detection_confidence=0.5,  # 置信度阈值\n",
    "                    min_tracking_confidence=0.5)   # 追踪阈值"
   ]
  },
  {
   "cell_type": "markdown",
   "id": "promotional-roller",
   "metadata": {},
   "source": [
    "# 读入图像，输入模型，获取预测结果"
   ]
  },
  {
   "cell_type": "code",
   "execution_count": 4,
   "id": "hungry-comfort",
   "metadata": {},
   "outputs": [
    {
     "name": "stderr",
     "output_type": "stream",
     "text": [
      "INFO: Created TensorFlow Lite XNNPACK delegate for CPU.\n"
     ]
    }
   ],
   "source": [
    "# 从图片文件读入图像，opencv读入为BGR格式\n",
    "img = cv2.imread('person1.jfif')\n",
    "# img = cv2.imread('test.jpg')\n",
    "\n",
    "# BGR转RGB\n",
    "img_RGB = cv2.cvtColor(img, cv2.COLOR_BGR2RGB)\n",
    "\n",
    "# 将RGB图像输入模型，获取预测结果\n",
    "results = pose.process(img_RGB)"
   ]
  },
  {
   "cell_type": "code",
   "execution_count": 5,
   "id": "understanding-genesis",
   "metadata": {},
   "outputs": [
    {
     "data": {
      "text/plain": [
       "mediapipe.python.solution_base.SolutionOutputs"
      ]
     },
     "execution_count": 5,
     "metadata": {},
     "output_type": "execute_result"
    }
   ],
   "source": [
    "results"
   ]
  },
  {
   "cell_type": "markdown",
   "id": "crude-alarm",
   "metadata": {},
   "source": [
    "# 人体抠图结果"
   ]
  },
  {
   "cell_type": "code",
   "execution_count": 6,
   "id": "provincial-fossil",
   "metadata": {},
   "outputs": [],
   "source": [
    "mask = results.segmentation_mask"
   ]
  },
  {
   "cell_type": "code",
   "execution_count": 7,
   "id": "opposed-velvet",
   "metadata": {},
   "outputs": [
    {
     "data": {
      "text/plain": [
       "(1001, 666)"
      ]
     },
     "execution_count": 7,
     "metadata": {},
     "output_type": "execute_result"
    }
   ],
   "source": [
    "mask.shape"
   ]
  },
  {
   "cell_type": "code",
   "execution_count": 8,
   "id": "virgin-incidence",
   "metadata": {},
   "outputs": [
    {
     "data": {
      "text/plain": [
       "(1001, 666, 3)"
      ]
     },
     "execution_count": 8,
     "metadata": {},
     "output_type": "execute_result"
    }
   ],
   "source": [
    "img.shape"
   ]
  },
  {
   "cell_type": "code",
   "execution_count": 9,
   "id": "executed-vault",
   "metadata": {},
   "outputs": [
    {
     "data": {
      "text/plain": [
       "array([[0.0000000e+00, 0.0000000e+00, 0.0000000e+00, ..., 3.5593622e-12,\n",
       "        3.8790316e-12, 4.1494972e-12],\n",
       "       [0.0000000e+00, 0.0000000e+00, 0.0000000e+00, ..., 3.8378402e-12,\n",
       "        4.1776396e-12, 4.4628671e-12],\n",
       "       [0.0000000e+00, 0.0000000e+00, 0.0000000e+00, ..., 4.1735747e-12,\n",
       "        4.3775521e-12, 4.7428502e-12],\n",
       "       ...,\n",
       "       [3.0415483e-12, 3.0148709e-12, 2.9788995e-12, ..., 3.9600214e-16,\n",
       "        3.8151685e-16, 3.4859726e-16],\n",
       "       [3.0483602e-12, 3.0126806e-12, 2.9860032e-12, ..., 4.9619534e-16,\n",
       "        4.7152111e-16, 4.2470745e-16],\n",
       "       [3.0542227e-12, 3.0190908e-12, 2.9932894e-12, ..., 6.0379870e-16,\n",
       "        5.3006147e-16, 4.9149314e-16]], dtype=float32)"
      ]
     },
     "execution_count": 9,
     "metadata": {},
     "output_type": "execute_result"
    }
   ],
   "source": [
    "mask"
   ]
  },
  {
   "cell_type": "code",
   "execution_count": 10,
   "id": "wired-mapping",
   "metadata": {},
   "outputs": [],
   "source": [
    "mask = mask > 0.5"
   ]
  },
  {
   "cell_type": "code",
   "execution_count": 11,
   "id": "injured-crawford",
   "metadata": {},
   "outputs": [
    {
     "data": {
      "image/png": "[encoded data removed]",
      "text/plain": [
       "<Figure size 640x480 with 1 Axes>"
      ]
     },
     "metadata": {},
     "output_type": "display_data"
    }
   ],
   "source": [
    "plt.imshow(mask)\n",
    "plt.show()"
   ]
  },
  {
   "cell_type": "code",
   "execution_count": 12,
   "id": "demanding-release",
   "metadata": {},
   "outputs": [],
   "source": [
    "import numpy as np\n",
    "\n",
    "# 单通道转三通道\n",
    "mask_3 = np.stack((mask,mask,mask), axis=-1)\n",
    "\n",
    "MASK_COLOR = [0,200,0]\n",
    "fg_image = np.zeros(img.shape, dtype=np.uint8)\n",
    "fg_image[:] = MASK_COLOR\n",
    "\n",
    "# 获得前景人像\n",
    "FG_img = np.where(mask_3, img, fg_image)\n",
    "\n",
    "# 获得抠掉前景人像的背景\n",
    "BG_img = np.where(~mask_3, img, fg_image)"
   ]
  },
  {
   "cell_type": "code",
   "execution_count": 13,
   "id": "colonial-chambers",
   "metadata": {},
   "outputs": [
    {
     "data": {
      "image/png": "[encoded data removed]",
      "text/plain": [
       "<Figure size 640x480 with 1 Axes>"
      ]
     },
     "metadata": {},
     "output_type": "display_data"
    }
   ],
   "source": [
    "look_img(FG_img)"
   ]
  },
  {
   "cell_type": "code",
   "execution_count": 14,
   "id": "general-battery",
   "metadata": {},
   "outputs": [
    {
     "data": {
      "image/png": "[encoded data removed]",
      "text/plain": [
       "<Figure size 640x480 with 1 Axes>"
      ]
     },
     "metadata": {},
     "output_type": "display_data"
    }
   ],
   "source": [
    "look_img(BG_img)"
   ]
  },
  {
   "cell_type": "markdown",
   "id": "molecular-tactics",
   "metadata": {},
   "source": [
    "# 所有关键点检测结果"
   ]
  },
  {
   "cell_type": "code",
   "execution_count": 15,
   "id": "relevant-friendly",
   "metadata": {
    "scrolled": true
   },
   "outputs": [
    {
     "data": {
      "text/plain": [
       "landmark {\n",
       "  x: 0.42718684673309326\n",
       "  y: 0.28176045417785645\n",
       "  z: -0.7528588771820068\n",
       "  visibility: 0.9999995231628418\n",
       "}\n",
       "landmark {\n",
       "  x: 0.4375799000263214\n",
       "  y: 0.2632758319377899\n",
       "  z: -0.7155289649963379\n",
       "  visibility: 0.9999992847442627\n",
       "}\n",
       "landmark {\n",
       "  x: 0.45074430108070374\n",
       "  y: 0.2619546353816986\n",
       "  z: -0.7150575518608093\n",
       "  visibility: 0.9999995231628418\n",
       "}\n",
       "landmark {\n",
       "  x: 0.4602421820163727\n",
       "  y: 0.26092544198036194\n",
       "  z: -0.715082585811615\n",
       "  visibility: 0.9999994039535522\n",
       "}\n",
       "landmark {\n",
       "  x: 0.40475669503211975\n",
       "  y: 0.2646046280860901\n",
       "  z: -0.6986936926841736\n",
       "  visibility: 0.9999984502792358\n",
       "}\n",
       "landmark {\n",
       "  x: 0.39266151189804077\n",
       "  y: 0.2649586498737335\n",
       "  z: -0.698076605796814\n",
       "  visibility: 0.9999961853027344\n",
       "}\n",
       "landmark {\n",
       "  x: 0.3816121816635132\n",
       "  y: 0.2658728063106537\n",
       "  z: -0.6997948884963989\n",
       "  visibility: 0.9999945163726807\n",
       "}\n",
       "landmark {\n",
       "  x: 0.46672359108924866\n",
       "  y: 0.26888349652290344\n",
       "  z: -0.48993390798568726\n",
       "  visibility: 0.9999959468841553\n",
       "}\n",
       "landmark {\n",
       "  x: 0.36308610439300537\n",
       "  y: 0.2744845747947693\n",
       "  z: -0.4093339741230011\n",
       "  visibility: 0.9999961853027344\n",
       "}\n",
       "landmark {\n",
       "  x: 0.4468216896057129\n",
       "  y: 0.2975108027458191\n",
       "  z: -0.6652038097381592\n",
       "  visibility: 0.9999974966049194\n",
       "}\n",
       "landmark {\n",
       "  x: 0.4069531559944153\n",
       "  y: 0.2985312044620514\n",
       "  z: -0.6422054767608643\n",
       "  visibility: 0.9999905824661255\n",
       "}\n",
       "landmark {\n",
       "  x: 0.5102774500846863\n",
       "  y: 0.3583453893661499\n",
       "  z: -0.4623447358608246\n",
       "  visibility: 0.9999949932098389\n",
       "}\n",
       "landmark {\n",
       "  x: 0.3380364179611206\n",
       "  y: 0.3835294246673584\n",
       "  z: -0.08468880504369736\n",
       "  visibility: 0.9994262456893921\n",
       "}\n",
       "landmark {\n",
       "  x: 0.6157318949699402\n",
       "  y: 0.46861007809638977\n",
       "  z: -0.5283049941062927\n",
       "  visibility: 0.9973970651626587\n",
       "}\n",
       "landmark {\n",
       "  x: 0.2525366544723511\n",
       "  y: 0.4746271073818207\n",
       "  z: -0.0976734459400177\n",
       "  visibility: 0.7360019087791443\n",
       "}\n",
       "landmark {\n",
       "  x: 0.7010221481323242\n",
       "  y: 0.5635688900947571\n",
       "  z: -0.7033055424690247\n",
       "  visibility: 0.9970996379852295\n",
       "}\n",
       "landmark {\n",
       "  x: 0.15197917819023132\n",
       "  y: 0.39842525124549866\n",
       "  z: -0.35844454169273376\n",
       "  visibility: 0.9563688635826111\n",
       "}\n",
       "landmark {\n",
       "  x: 0.7392426133155823\n",
       "  y: 0.5915573239326477\n",
       "  z: -0.7568647265434265\n",
       "  visibility: 0.9947302341461182\n",
       "}\n",
       "landmark {\n",
       "  x: 0.12610697746276855\n",
       "  y: 0.3697963058948517\n",
       "  z: -0.3998217284679413\n",
       "  visibility: 0.9545581340789795\n",
       "}\n",
       "landmark {\n",
       "  x: 0.7161328196525574\n",
       "  y: 0.5948874354362488\n",
       "  z: -0.8156666159629822\n",
       "  visibility: 0.994971513748169\n",
       "}\n",
       "landmark {\n",
       "  x: 0.1242615282535553\n",
       "  y: 0.36007341742515564\n",
       "  z: -0.42996251583099365\n",
       "  visibility: 0.9554958939552307\n",
       "}\n",
       "landmark {\n",
       "  x: 0.6930075883865356\n",
       "  y: 0.5888636708259583\n",
       "  z: -0.7252683639526367\n",
       "  visibility: 0.9914440512657166\n",
       "}\n",
       "landmark {\n",
       "  x: 0.13723358511924744\n",
       "  y: 0.36806565523147583\n",
       "  z: -0.3784063458442688\n",
       "  visibility: 0.9419292211532593\n",
       "}\n",
       "landmark {\n",
       "  x: 0.5267028212547302\n",
       "  y: 0.5855908989906311\n",
       "  z: -0.1647939234972\n",
       "  visibility: 0.9997432827949524\n",
       "}\n",
       "landmark {\n",
       "  x: 0.40909305214881897\n",
       "  y: 0.5919939875602722\n",
       "  z: 0.16565296053886414\n",
       "  visibility: 0.9991258978843689\n",
       "}\n",
       "landmark {\n",
       "  x: 0.6761601567268372\n",
       "  y: 0.7419996857643127\n",
       "  z: -0.39037802815437317\n",
       "  visibility: 0.9977560639381409\n",
       "}\n",
       "landmark {\n",
       "  x: 0.23931331932544708\n",
       "  y: 0.6950266361236572\n",
       "  z: 0.11598635464906693\n",
       "  visibility: 0.9394928812980652\n",
       "}\n",
       "landmark {\n",
       "  x: 0.9277713894844055\n",
       "  y: 0.8785076141357422\n",
       "  z: -0.4057230055332184\n",
       "  visibility: 0.9988735318183899\n",
       "}\n",
       "landmark {\n",
       "  x: 0.3319450914859772\n",
       "  y: 0.8329214453697205\n",
       "  z: 0.409711629152298\n",
       "  visibility: 0.9722009897232056\n",
       "}\n",
       "landmark {\n",
       "  x: 0.9766198396682739\n",
       "  y: 0.9018591642379761\n",
       "  z: -0.42137011885643005\n",
       "  visibility: 0.9705853462219238\n",
       "}\n",
       "landmark {\n",
       "  x: 0.3701838254928589\n",
       "  y: 0.859029233455658\n",
       "  z: 0.4331595003604889\n",
       "  visibility: 0.923213541507721\n",
       "}\n",
       "landmark {\n",
       "  x: 0.8417888283729553\n",
       "  y: 0.9312911033630371\n",
       "  z: -0.7413108348846436\n",
       "  visibility: 0.9976400136947632\n",
       "}\n",
       "landmark {\n",
       "  x: 0.2316160500049591\n",
       "  y: 0.8816045522689819\n",
       "  z: 0.2917971909046173\n",
       "  visibility: 0.9795969724655151\n",
       "}"
      ]
     },
     "execution_count": 15,
     "metadata": {},
     "output_type": "execute_result"
    }
   ],
   "source": [
    "results.pose_landmarks"
   ]
  },
  {
   "cell_type": "code",
   "execution_count": 16,
   "id": "radio-trademark",
   "metadata": {},
   "outputs": [
    {
     "data": {
      "text/plain": [
       "frozenset({(0, 1),\n",
       "           (0, 4),\n",
       "           (1, 2),\n",
       "           (2, 3),\n",
       "           (3, 7),\n",
       "           (4, 5),\n",
       "           (5, 6),\n",
       "           (6, 8),\n",
       "           (9, 10),\n",
       "           (11, 12),\n",
       "           (11, 13),\n",
       "           (11, 23),\n",
       "           (12, 14),\n",
       "           (12, 24),\n",
       "           (13, 15),\n",
       "           (14, 16),\n",
       "           (15, 17),\n",
       "           (15, 19),\n",
       "           (15, 21),\n",
       "           (16, 18),\n",
       "           (16, 20),\n",
       "           (16, 22),\n",
       "           (17, 19),\n",
       "           (18, 20),\n",
       "           (23, 24),\n",
       "           (23, 25),\n",
       "           (24, 26),\n",
       "           (25, 27),\n",
       "           (26, 28),\n",
       "           (27, 29),\n",
       "           (27, 31),\n",
       "           (28, 30),\n",
       "           (28, 32),\n",
       "           (29, 31),\n",
       "           (30, 32)})"
      ]
     },
     "execution_count": 16,
     "metadata": {},
     "output_type": "execute_result"
    }
   ],
   "source": [
    "mp_pose.POSE_CONNECTIONS"
   ]
  },
  {
   "cell_type": "code",
   "execution_count": 17,
   "id": "regional-cardiff",
   "metadata": {},
   "outputs": [
    {
     "data": {
      "text/plain": [
       "x: 0.6157318949699402\n",
       "y: 0.46861007809638977\n",
       "z: -0.5283049941062927\n",
       "visibility: 0.9973970651626587"
      ]
     },
     "execution_count": 17,
     "metadata": {},
     "output_type": "execute_result"
    }
   ],
   "source": [
    "# 左胳膊肘关键点的归一化坐标\n",
    "results.pose_landmarks.landmark[mp_pose.PoseLandmark.LEFT_ELBOW]"
   ]
  },
  {
   "cell_type": "code",
   "execution_count": 18,
   "id": "passive-humidity",
   "metadata": {},
   "outputs": [
    {
     "data": {
      "text/plain": [
       "x: 0.6157318949699402\n",
       "y: 0.46861007809638977\n",
       "z: -0.5283049941062927\n",
       "visibility: 0.9973970651626587"
      ]
     },
     "execution_count": 18,
     "metadata": {},
     "output_type": "execute_result"
    }
   ],
   "source": [
    "# 左胳膊肘关键点的归一化坐标\n",
    "results.pose_landmarks.landmark[13]"
   ]
  },
  {
   "cell_type": "code",
   "execution_count": 19,
   "id": "judicial-yeast",
   "metadata": {},
   "outputs": [
    {
     "data": {
      "text/plain": [
       "0.6157318949699402"
      ]
     },
     "execution_count": 19,
     "metadata": {},
     "output_type": "execute_result"
    }
   ],
   "source": [
    "# 左胳膊肘关键点的归一化坐标\n",
    "results.pose_landmarks.landmark[13].x"
   ]
  },
  {
   "cell_type": "markdown",
   "id": "built-clarity",
   "metadata": {},
   "source": [
    "# 解析指定关键点的像素坐标"
   ]
  },
  {
   "cell_type": "code",
   "execution_count": 20,
   "id": "registered-second",
   "metadata": {},
   "outputs": [
    {
     "data": {
      "text/plain": [
       "(1001, 666, 3)"
      ]
     },
     "execution_count": 20,
     "metadata": {},
     "output_type": "execute_result"
    }
   ],
   "source": [
    "img.shape"
   ]
  },
  {
   "cell_type": "code",
   "execution_count": 21,
   "id": "animal-solomon",
   "metadata": {},
   "outputs": [],
   "source": [
    "h = img.shape[0]\n",
    "w = img.shape[1]"
   ]
  },
  {
   "cell_type": "code",
   "execution_count": 22,
   "id": "apparent-nomination",
   "metadata": {},
   "outputs": [
    {
     "data": {
      "text/plain": [
       "410.07744204998016"
      ]
     },
     "execution_count": 22,
     "metadata": {},
     "output_type": "execute_result"
    }
   ],
   "source": [
    "# 左胳膊肘关键点像素横坐标\n",
    "results.pose_landmarks.landmark[mp_pose.PoseLandmark.LEFT_ELBOW].x * w"
   ]
  },
  {
   "cell_type": "code",
   "execution_count": 23,
   "id": "aggregate-korean",
   "metadata": {},
   "outputs": [
    {
     "data": {
      "text/plain": [
       "469.07868817448616"
      ]
     },
     "execution_count": 23,
     "metadata": {},
     "output_type": "execute_result"
    }
   ],
   "source": [
    "# 左胳膊肘关键点像素纵坐标\n",
    "results.pose_landmarks.landmark[mp_pose.PoseLandmark.LEFT_ELBOW].y * h"
   ]
  },
  {
   "cell_type": "markdown",
   "id": "duplicate-deficit",
   "metadata": {},
   "source": [
    "# 解析指定关键点的真实物理（米）坐标"
   ]
  },
  {
   "cell_type": "code",
   "execution_count": 24,
   "id": "imperial-israel",
   "metadata": {},
   "outputs": [
    {
     "data": {
      "text/plain": [
       "x: -0.10773525387048721\n",
       "y: -0.5413076877593994\n",
       "z: -0.2769346833229065\n",
       "visibility: 0.9999995231628418"
      ]
     },
     "execution_count": 24,
     "metadata": {},
     "output_type": "execute_result"
    }
   ],
   "source": [
    "results.pose_world_landmarks.landmark[mp_pose.PoseLandmark.NOSE]"
   ]
  },
  {
   "cell_type": "code",
   "execution_count": 25,
   "id": "mysterious-research",
   "metadata": {},
   "outputs": [
    {
     "data": {
      "text/plain": [
       "x: 0.07803427428007126\n",
       "y: 0.011955736204981804\n",
       "z: -0.03498343005776405\n",
       "visibility: 0.9997432827949524"
      ]
     },
     "execution_count": 25,
     "metadata": {},
     "output_type": "execute_result"
    }
   ],
   "source": [
    "results.pose_world_landmarks.landmark[23]"
   ]
  },
  {
   "cell_type": "markdown",
   "id": "impressed-thesis",
   "metadata": {},
   "source": [
    "真实物理坐标的原点位于左右髋关节连线的中点（肚脐附近），详见论文。"
   ]
  },
  {
   "cell_type": "markdown",
   "id": "light-beijing",
   "metadata": {},
   "source": [
    "# 交互式三维可视化"
   ]
  },
  {
   "cell_type": "code",
   "execution_count": 26,
   "id": "chemical-working",
   "metadata": {},
   "outputs": [],
   "source": [
    "import numpy as np"
   ]
  },
  {
   "cell_type": "code",
   "execution_count": 27,
   "id": "toxic-condition",
   "metadata": {},
   "outputs": [],
   "source": [
    "coords = np.array(results.pose_landmarks.landmark)"
   ]
  },
  {
   "cell_type": "code",
   "execution_count": 28,
   "id": "major-marina",
   "metadata": {},
   "outputs": [
    {
     "data": {
      "text/plain": [
       "array([x: 0.42718684673309326\n",
       "       y: 0.28176045417785645\n",
       "       z: -0.7528588771820068\n",
       "       visibility: 0.9999995231628418, x: 0.4375799000263214\n",
       "                                       y: 0.2632758319377899\n",
       "                                       z: -0.7155289649963379\n",
       "                                       visibility: 0.9999992847442627,\n",
       "       x: 0.45074430108070374\n",
       "       y: 0.2619546353816986\n",
       "       z: -0.7150575518608093\n",
       "       visibility: 0.9999995231628418, x: 0.4602421820163727\n",
       "                                       y: 0.26092544198036194\n",
       "                                       z: -0.715082585811615\n",
       "                                       visibility: 0.9999994039535522,\n",
       "       x: 0.40475669503211975\n",
       "       y: 0.2646046280860901\n",
       "       z: -0.6986936926841736\n",
       "       visibility: 0.9999984502792358, x: 0.39266151189804077\n",
       "                                       y: 0.2649586498737335\n",
       "                                       z: -0.698076605796814\n",
       "                                       visibility: 0.9999961853027344,\n",
       "       x: 0.3816121816635132\n",
       "       y: 0.2658728063106537\n",
       "       z: -0.6997948884963989\n",
       "       visibility: 0.9999945163726807, x: 0.46672359108924866\n",
       "                                       y: 0.26888349652290344\n",
       "                                       z: -0.48993390798568726\n",
       "                                       visibility: 0.9999959468841553,\n",
       "       x: 0.36308610439300537\n",
       "       y: 0.2744845747947693\n",
       "       z: -0.4093339741230011\n",
       "       visibility: 0.9999961853027344, x: 0.4468216896057129\n",
       "                                       y: 0.2975108027458191\n",
       "                                       z: -0.6652038097381592\n",
       "                                       visibility: 0.9999974966049194,\n",
       "       x: 0.4069531559944153\n",
       "       y: 0.2985312044620514\n",
       "       z: -0.6422054767608643\n",
       "       visibility: 0.9999905824661255, x: 0.5102774500846863\n",
       "                                       y: 0.3583453893661499\n",
       "                                       z: -0.4623447358608246\n",
       "                                       visibility: 0.9999949932098389,\n",
       "       x: 0.3380364179611206\n",
       "       y: 0.3835294246673584\n",
       "       z: -0.08468880504369736\n",
       "       visibility: 0.9994262456893921, x: 0.6157318949699402\n",
       "                                       y: 0.46861007809638977\n",
       "                                       z: -0.5283049941062927\n",
       "                                       visibility: 0.9973970651626587,\n",
       "       x: 0.2525366544723511\n",
       "       y: 0.4746271073818207\n",
       "       z: -0.0976734459400177\n",
       "       visibility: 0.7360019087791443, x: 0.7010221481323242\n",
       "                                       y: 0.5635688900947571\n",
       "                                       z: -0.7033055424690247\n",
       "                                       visibility: 0.9970996379852295,\n",
       "       x: 0.15197917819023132\n",
       "       y: 0.39842525124549866\n",
       "       z: -0.35844454169273376\n",
       "       visibility: 0.9563688635826111, x: 0.7392426133155823\n",
       "                                       y: 0.5915573239326477\n",
       "                                       z: -0.7568647265434265\n",
       "                                       visibility: 0.9947302341461182,\n",
       "       x: 0.12610697746276855\n",
       "       y: 0.3697963058948517\n",
       "       z: -0.3998217284679413\n",
       "       visibility: 0.9545581340789795, x: 0.7161328196525574\n",
       "                                       y: 0.5948874354362488\n",
       "                                       z: -0.8156666159629822\n",
       "                                       visibility: 0.994971513748169,\n",
       "       x: 0.1242615282535553\n",
       "       y: 0.36007341742515564\n",
       "       z: -0.42996251583099365\n",
       "       visibility: 0.9554958939552307, x: 0.6930075883865356\n",
       "                                       y: 0.5888636708259583\n",
       "                                       z: -0.7252683639526367\n",
       "                                       visibility: 0.9914440512657166,\n",
       "       x: 0.13723358511924744\n",
       "       y: 0.36806565523147583\n",
       "       z: -0.3784063458442688\n",
       "       visibility: 0.9419292211532593, x: 0.5267028212547302\n",
       "                                       y: 0.5855908989906311\n",
       "                                       z: -0.1647939234972\n",
       "                                       visibility: 0.9997432827949524,\n",
       "       x: 0.40909305214881897\n",
       "       y: 0.5919939875602722\n",
       "       z: 0.16565296053886414\n",
       "       visibility: 0.9991258978843689, x: 0.6761601567268372\n",
       "                                       y: 0.7419996857643127\n",
       "                                       z: -0.39037802815437317\n",
       "                                       visibility: 0.9977560639381409,\n",
       "       x: 0.23931331932544708\n",
       "       y: 0.6950266361236572\n",
       "       z: 0.11598635464906693\n",
       "       visibility: 0.9394928812980652, x: 0.9277713894844055\n",
       "                                       y: 0.8785076141357422\n",
       "                                       z: -0.4057230055332184\n",
       "                                       visibility: 0.9988735318183899,\n",
       "       x: 0.3319450914859772\n",
       "       y: 0.8329214453697205\n",
       "       z: 0.409711629152298\n",
       "       visibility: 0.9722009897232056, x: 0.9766198396682739\n",
       "                                       y: 0.9018591642379761\n",
       "                                       z: -0.42137011885643005\n",
       "                                       visibility: 0.9705853462219238,\n",
       "       x: 0.3701838254928589\n",
       "       y: 0.859029233455658\n",
       "       z: 0.4331595003604889\n",
       "       visibility: 0.923213541507721, x: 0.8417888283729553\n",
       "                                      y: 0.9312911033630371\n",
       "                                      z: -0.7413108348846436\n",
       "                                      visibility: 0.9976400136947632,\n",
       "       x: 0.2316160500049591\n",
       "       y: 0.8816045522689819\n",
       "       z: 0.2917971909046173\n",
       "       visibility: 0.9795969724655151], dtype=object)"
      ]
     },
     "execution_count": 28,
     "metadata": {},
     "output_type": "execute_result"
    }
   ],
   "source": [
    "coords"
   ]
  },
  {
   "cell_type": "code",
   "execution_count": 29,
   "id": "rational-gravity",
   "metadata": {},
   "outputs": [
    {
     "data": {
      "text/plain": [
       "33"
      ]
     },
     "execution_count": 29,
     "metadata": {},
     "output_type": "execute_result"
    }
   ],
   "source": [
    "len(coords)"
   ]
  },
  {
   "cell_type": "code",
   "execution_count": 30,
   "id": "alpha-gibson",
   "metadata": {},
   "outputs": [
    {
     "data": {
      "text/plain": [
       "0.42718684673309326"
      ]
     },
     "execution_count": 30,
     "metadata": {},
     "output_type": "execute_result"
    }
   ],
   "source": [
    "coords[0].x"
   ]
  },
  {
   "cell_type": "code",
   "execution_count": 31,
   "id": "decent-grammar",
   "metadata": {},
   "outputs": [],
   "source": [
    "# 在不用耗时循环的条件下，汇总所有点的XYZ坐标\n",
    "\n",
    "def get_x(each):\n",
    "    return each.x\n",
    "def get_y(each):\n",
    "    return each.y\n",
    "def get_z(each):\n",
    "    return each.z\n",
    "\n",
    "# 分别获取所有关键点的XYZ坐标\n",
    "points_x = np.array(list(map(get_x, coords)))\n",
    "points_y = np.array(list(map(get_y, coords)))\n",
    "points_z = np.array(list(map(get_z, coords)))\n",
    "\n",
    "# 将三个方向的坐标合并\n",
    "points = np.vstack((points_x, points_y, points_z)).T"
   ]
  },
  {
   "cell_type": "code",
   "execution_count": 32,
   "id": "continuous-starter",
   "metadata": {},
   "outputs": [
    {
     "data": {
      "text/plain": [
       "(33, 3)"
      ]
     },
     "execution_count": 32,
     "metadata": {},
     "output_type": "execute_result"
    }
   ],
   "source": [
    "points.shape"
   ]
  },
  {
   "cell_type": "code",
   "execution_count": 33,
   "id": "incoming-trade",
   "metadata": {},
   "outputs": [
    {
     "data": {
      "text/plain": [
       "array([[ 0.42718685,  0.28176045, -0.75285888],\n",
       "       [ 0.4375799 ,  0.26327583, -0.71552896],\n",
       "       [ 0.4507443 ,  0.26195464, -0.71505755],\n",
       "       [ 0.46024218,  0.26092544, -0.71508259],\n",
       "       [ 0.4047567 ,  0.26460463, -0.69869369],\n",
       "       [ 0.39266151,  0.26495865, -0.69807661],\n",
       "       [ 0.38161218,  0.26587281, -0.69979489],\n",
       "       [ 0.46672359,  0.2688835 , -0.48993391],\n",
       "       [ 0.3630861 ,  0.27448457, -0.40933397],\n",
       "       [ 0.44682169,  0.2975108 , -0.66520381],\n",
       "       [ 0.40695316,  0.2985312 , -0.64220548],\n",
       "       [ 0.51027745,  0.35834539, -0.46234474],\n",
       "       [ 0.33803642,  0.38352942, -0.08468881],\n",
       "       [ 0.61573189,  0.46861008, -0.52830499],\n",
       "       [ 0.25253665,  0.47462711, -0.09767345],\n",
       "       [ 0.70102215,  0.56356889, -0.70330554],\n",
       "       [ 0.15197918,  0.39842525, -0.35844454],\n",
       "       [ 0.73924261,  0.59155732, -0.75686473],\n",
       "       [ 0.12610698,  0.36979631, -0.39982173],\n",
       "       [ 0.71613282,  0.59488744, -0.81566662],\n",
       "       [ 0.12426153,  0.36007342, -0.42996252],\n",
       "       [ 0.69300759,  0.58886367, -0.72526836],\n",
       "       [ 0.13723359,  0.36806566, -0.37840635],\n",
       "       [ 0.52670282,  0.5855909 , -0.16479392],\n",
       "       [ 0.40909305,  0.59199399,  0.16565296],\n",
       "       [ 0.67616016,  0.74199969, -0.39037803],\n",
       "       [ 0.23931332,  0.69502664,  0.11598635],\n",
       "       [ 0.92777139,  0.87850761, -0.40572301],\n",
       "       [ 0.33194509,  0.83292145,  0.40971163],\n",
       "       [ 0.97661984,  0.90185916, -0.42137012],\n",
       "       [ 0.37018383,  0.85902923,  0.4331595 ],\n",
       "       [ 0.84178883,  0.9312911 , -0.74131083],\n",
       "       [ 0.23161605,  0.88160455,  0.29179719]])"
      ]
     },
     "execution_count": 33,
     "metadata": {},
     "output_type": "execute_result"
    }
   ],
   "source": [
    "points"
   ]
  },
  {
   "cell_type": "code",
   "execution_count": 35,
   "id": "animal-dividend",
   "metadata": {},
   "outputs": [],
   "source": [
    "import open3d\n",
    "# Open3D是一个开放源代码库，支持快速开发处理3D数据的软件。\n",
    "point_cloud = open3d.geometry.PointCloud()\n",
    "point_cloud.points = open3d.utility.Vector3dVector(points)\n",
    "open3d.visualization.draw_geometries([point_cloud])"
   ]
  }
 ],
 "metadata": {
  "kernelspec": {
   "display_name": "Python 3.8.13 ('dg_demo')",
   "language": "python",
   "name": "python3"
  },
  "language_info": {
   "codemirror_mode": {
    "name": "ipython",
    "version": 3
   },
   "file_extension": ".py",
   "mimetype": "text/x-python",
   "name": "python",
   "nbconvert_exporter": "python",
   "pygments_lexer": "ipython3",
   "version": "3.8.13"
  },
  "vscode": {
   "interpreter": {
    "hash": "f29ded39bd84ccde43438c3db4c0b346c1217eab52822133991d7d581c3429a6"
   }
  }
 },
 "nbformat": 4,
 "nbformat_minor": 5
}
